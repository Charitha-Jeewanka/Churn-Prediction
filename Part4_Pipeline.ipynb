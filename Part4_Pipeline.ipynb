{
 "cells": [
  {
   "cell_type": "code",
   "execution_count": null,
   "id": "767c83ff",
   "metadata": {},
   "outputs": [
    {
     "data": {
      "text/plain": [
       "{'status': 'ok', 'restart': True}"
      ]
     },
     "execution_count": 4,
     "metadata": {},
     "output_type": "execute_result"
    },
    {
     "ename": "",
     "evalue": "",
     "output_type": "error",
     "traceback": [
      "\u001b[1;31mThe Kernel crashed while executing code in the current cell or a previous cell. \n",
      "\u001b[1;31mPlease review the code in the cell(s) to identify a possible cause of the failure. \n",
      "\u001b[1;31mClick <a href='https://aka.ms/vscodeJupyterKernelCrash'>here</a> for more info. \n",
      "\u001b[1;31mView Jupyter <a href='command:jupyter.viewOutput'>log</a> for further details."
     ]
    }
   ],
   "source": [
    "# Safe shutdown + restart prompt\n",
    "get_ipython().kernel.do_shutdown(restart=True)  # then re-run cells from the top\n"
   ]
  },
  {
   "cell_type": "markdown",
   "id": "ca13d3e8",
   "metadata": {},
   "source": [
    "# Part 4: Production‑Ready Pipeline Development\n",
    "\n",
    "In this notebook we demonstrate how to use the **production_pipeline** package developed in Part 4 to build, train and deploy a Telco customer churn prediction model. The goal is to show how the modular pipeline orchestrates data preprocessing, model training with cross‑validation and hyperparameter tuning, evaluation on a hold‑out test set, and real‑time inference.\n",
    "\n",
    "We use the provided churn dataset with missing values already handled (`ChurnData_Missing_Handled.csv`). The pipeline will drop the unique `customerID` column, impute missing values, bin the `tenure` feature into categories, one‑hot encode categorical variables, scale numeric features, train a decision tree model (with optional hyperparameter search), and evaluate its performance. Finally, we save the preprocessing pipeline and model, load them back and perform batch and single‑sample predictions."
   ]
  },
  {
   "cell_type": "code",
   "execution_count": 1,
   "id": "68a7a015",
   "metadata": {},
   "outputs": [],
   "source": [
    "import pandas as pd\n",
    "from production_pipeline.config import DataConfig, PreprocessingConfig, ModelConfig\n",
    "from production_pipeline.training_pipeline import TrainingPipeline\n",
    "from production_pipeline.streaming_inference_pipeline import StreamingInferencePipeline\n"
   ]
  },
  {
   "cell_type": "code",
   "execution_count": 2,
   "id": "3a0b629a",
   "metadata": {},
   "outputs": [
    {
     "data": {
      "application/vnd.microsoft.datawrangler.viewer.v0+json": {
       "columns": [
        {
         "name": "index",
         "rawType": "int64",
         "type": "integer"
        },
        {
         "name": "customerID",
         "rawType": "object",
         "type": "string"
        },
        {
         "name": "gender",
         "rawType": "object",
         "type": "string"
        },
        {
         "name": "SeniorCitizen",
         "rawType": "int64",
         "type": "integer"
        },
        {
         "name": "Partner",
         "rawType": "object",
         "type": "string"
        },
        {
         "name": "Dependents",
         "rawType": "object",
         "type": "string"
        },
        {
         "name": "tenure",
         "rawType": "int64",
         "type": "integer"
        },
        {
         "name": "PhoneService",
         "rawType": "object",
         "type": "string"
        },
        {
         "name": "MultipleLines",
         "rawType": "object",
         "type": "string"
        },
        {
         "name": "InternetService",
         "rawType": "object",
         "type": "string"
        },
        {
         "name": "OnlineSecurity",
         "rawType": "object",
         "type": "string"
        },
        {
         "name": "OnlineBackup",
         "rawType": "object",
         "type": "string"
        },
        {
         "name": "DeviceProtection",
         "rawType": "object",
         "type": "string"
        },
        {
         "name": "TechSupport",
         "rawType": "object",
         "type": "string"
        },
        {
         "name": "StreamingTV",
         "rawType": "object",
         "type": "string"
        },
        {
         "name": "StreamingMovies",
         "rawType": "object",
         "type": "string"
        },
        {
         "name": "Contract",
         "rawType": "object",
         "type": "string"
        },
        {
         "name": "PaperlessBilling",
         "rawType": "object",
         "type": "string"
        },
        {
         "name": "PaymentMethod",
         "rawType": "object",
         "type": "string"
        },
        {
         "name": "MonthlyCharges",
         "rawType": "float64",
         "type": "float"
        },
        {
         "name": "TotalCharges",
         "rawType": "float64",
         "type": "float"
        },
        {
         "name": "Churn",
         "rawType": "object",
         "type": "string"
        }
       ],
       "ref": "557b6411-a0e2-4007-a170-73135ed74a71",
       "rows": [
        [
         "0",
         "7590-VHVEG",
         "Female",
         "0",
         "Yes",
         "No",
         "1",
         "No",
         "No phone service",
         "DSL",
         "No",
         "Yes",
         "No",
         "No",
         "No",
         "No",
         "Month-to-month",
         "Yes",
         "Electronic check",
         "29.85",
         "29.85",
         "No"
        ],
        [
         "1",
         "5575-GNVDE",
         "Male",
         "0",
         "No",
         "No",
         "34",
         "Yes",
         "No",
         "DSL",
         "Yes",
         "No",
         "Yes",
         "No",
         "No",
         "No",
         "One year",
         "No",
         "Mailed check",
         "56.95",
         "1889.5",
         "No"
        ],
        [
         "2",
         "3668-QPYBK",
         "Male",
         "0",
         "No",
         "No",
         "2",
         "Yes",
         "No",
         "DSL",
         "Yes",
         "Yes",
         "No",
         "No",
         "No",
         "No",
         "Month-to-month",
         "Yes",
         "Mailed check",
         "53.85",
         "108.15",
         "Yes"
        ],
        [
         "3",
         "7795-CFOCW",
         "Male",
         "0",
         "No",
         "No",
         "45",
         "No",
         "No phone service",
         "DSL",
         "Yes",
         "No",
         "Yes",
         "Yes",
         "No",
         "No",
         "One year",
         "No",
         "Bank transfer (automatic)",
         "42.3",
         "1840.75",
         "No"
        ],
        [
         "4",
         "9237-HQITU",
         "Female",
         "0",
         "No",
         "No",
         "2",
         "Yes",
         "No",
         "Fiber optic",
         "No",
         "No",
         "No",
         "No",
         "No",
         "No",
         "Month-to-month",
         "Yes",
         "Electronic check",
         "70.7",
         "151.65",
         "Yes"
        ]
       ],
       "shape": {
        "columns": 21,
        "rows": 5
       }
      },
      "text/html": [
       "<div>\n",
       "<style scoped>\n",
       "    .dataframe tbody tr th:only-of-type {\n",
       "        vertical-align: middle;\n",
       "    }\n",
       "\n",
       "    .dataframe tbody tr th {\n",
       "        vertical-align: top;\n",
       "    }\n",
       "\n",
       "    .dataframe thead th {\n",
       "        text-align: right;\n",
       "    }\n",
       "</style>\n",
       "<table border=\"1\" class=\"dataframe\">\n",
       "  <thead>\n",
       "    <tr style=\"text-align: right;\">\n",
       "      <th></th>\n",
       "      <th>customerID</th>\n",
       "      <th>gender</th>\n",
       "      <th>SeniorCitizen</th>\n",
       "      <th>Partner</th>\n",
       "      <th>Dependents</th>\n",
       "      <th>tenure</th>\n",
       "      <th>PhoneService</th>\n",
       "      <th>MultipleLines</th>\n",
       "      <th>InternetService</th>\n",
       "      <th>OnlineSecurity</th>\n",
       "      <th>...</th>\n",
       "      <th>DeviceProtection</th>\n",
       "      <th>TechSupport</th>\n",
       "      <th>StreamingTV</th>\n",
       "      <th>StreamingMovies</th>\n",
       "      <th>Contract</th>\n",
       "      <th>PaperlessBilling</th>\n",
       "      <th>PaymentMethod</th>\n",
       "      <th>MonthlyCharges</th>\n",
       "      <th>TotalCharges</th>\n",
       "      <th>Churn</th>\n",
       "    </tr>\n",
       "  </thead>\n",
       "  <tbody>\n",
       "    <tr>\n",
       "      <th>0</th>\n",
       "      <td>7590-VHVEG</td>\n",
       "      <td>Female</td>\n",
       "      <td>0</td>\n",
       "      <td>Yes</td>\n",
       "      <td>No</td>\n",
       "      <td>1</td>\n",
       "      <td>No</td>\n",
       "      <td>No phone service</td>\n",
       "      <td>DSL</td>\n",
       "      <td>No</td>\n",
       "      <td>...</td>\n",
       "      <td>No</td>\n",
       "      <td>No</td>\n",
       "      <td>No</td>\n",
       "      <td>No</td>\n",
       "      <td>Month-to-month</td>\n",
       "      <td>Yes</td>\n",
       "      <td>Electronic check</td>\n",
       "      <td>29.85</td>\n",
       "      <td>29.85</td>\n",
       "      <td>No</td>\n",
       "    </tr>\n",
       "    <tr>\n",
       "      <th>1</th>\n",
       "      <td>5575-GNVDE</td>\n",
       "      <td>Male</td>\n",
       "      <td>0</td>\n",
       "      <td>No</td>\n",
       "      <td>No</td>\n",
       "      <td>34</td>\n",
       "      <td>Yes</td>\n",
       "      <td>No</td>\n",
       "      <td>DSL</td>\n",
       "      <td>Yes</td>\n",
       "      <td>...</td>\n",
       "      <td>Yes</td>\n",
       "      <td>No</td>\n",
       "      <td>No</td>\n",
       "      <td>No</td>\n",
       "      <td>One year</td>\n",
       "      <td>No</td>\n",
       "      <td>Mailed check</td>\n",
       "      <td>56.95</td>\n",
       "      <td>1889.50</td>\n",
       "      <td>No</td>\n",
       "    </tr>\n",
       "    <tr>\n",
       "      <th>2</th>\n",
       "      <td>3668-QPYBK</td>\n",
       "      <td>Male</td>\n",
       "      <td>0</td>\n",
       "      <td>No</td>\n",
       "      <td>No</td>\n",
       "      <td>2</td>\n",
       "      <td>Yes</td>\n",
       "      <td>No</td>\n",
       "      <td>DSL</td>\n",
       "      <td>Yes</td>\n",
       "      <td>...</td>\n",
       "      <td>No</td>\n",
       "      <td>No</td>\n",
       "      <td>No</td>\n",
       "      <td>No</td>\n",
       "      <td>Month-to-month</td>\n",
       "      <td>Yes</td>\n",
       "      <td>Mailed check</td>\n",
       "      <td>53.85</td>\n",
       "      <td>108.15</td>\n",
       "      <td>Yes</td>\n",
       "    </tr>\n",
       "    <tr>\n",
       "      <th>3</th>\n",
       "      <td>7795-CFOCW</td>\n",
       "      <td>Male</td>\n",
       "      <td>0</td>\n",
       "      <td>No</td>\n",
       "      <td>No</td>\n",
       "      <td>45</td>\n",
       "      <td>No</td>\n",
       "      <td>No phone service</td>\n",
       "      <td>DSL</td>\n",
       "      <td>Yes</td>\n",
       "      <td>...</td>\n",
       "      <td>Yes</td>\n",
       "      <td>Yes</td>\n",
       "      <td>No</td>\n",
       "      <td>No</td>\n",
       "      <td>One year</td>\n",
       "      <td>No</td>\n",
       "      <td>Bank transfer (automatic)</td>\n",
       "      <td>42.30</td>\n",
       "      <td>1840.75</td>\n",
       "      <td>No</td>\n",
       "    </tr>\n",
       "    <tr>\n",
       "      <th>4</th>\n",
       "      <td>9237-HQITU</td>\n",
       "      <td>Female</td>\n",
       "      <td>0</td>\n",
       "      <td>No</td>\n",
       "      <td>No</td>\n",
       "      <td>2</td>\n",
       "      <td>Yes</td>\n",
       "      <td>No</td>\n",
       "      <td>Fiber optic</td>\n",
       "      <td>No</td>\n",
       "      <td>...</td>\n",
       "      <td>No</td>\n",
       "      <td>No</td>\n",
       "      <td>No</td>\n",
       "      <td>No</td>\n",
       "      <td>Month-to-month</td>\n",
       "      <td>Yes</td>\n",
       "      <td>Electronic check</td>\n",
       "      <td>70.70</td>\n",
       "      <td>151.65</td>\n",
       "      <td>Yes</td>\n",
       "    </tr>\n",
       "  </tbody>\n",
       "</table>\n",
       "<p>5 rows × 21 columns</p>\n",
       "</div>"
      ],
      "text/plain": [
       "   customerID  gender  SeniorCitizen Partner Dependents  tenure PhoneService  \\\n",
       "0  7590-VHVEG  Female              0     Yes         No       1           No   \n",
       "1  5575-GNVDE    Male              0      No         No      34          Yes   \n",
       "2  3668-QPYBK    Male              0      No         No       2          Yes   \n",
       "3  7795-CFOCW    Male              0      No         No      45           No   \n",
       "4  9237-HQITU  Female              0      No         No       2          Yes   \n",
       "\n",
       "      MultipleLines InternetService OnlineSecurity  ... DeviceProtection  \\\n",
       "0  No phone service             DSL             No  ...               No   \n",
       "1                No             DSL            Yes  ...              Yes   \n",
       "2                No             DSL            Yes  ...               No   \n",
       "3  No phone service             DSL            Yes  ...              Yes   \n",
       "4                No     Fiber optic             No  ...               No   \n",
       "\n",
       "  TechSupport StreamingTV StreamingMovies        Contract PaperlessBilling  \\\n",
       "0          No          No              No  Month-to-month              Yes   \n",
       "1          No          No              No        One year               No   \n",
       "2          No          No              No  Month-to-month              Yes   \n",
       "3         Yes          No              No        One year               No   \n",
       "4          No          No              No  Month-to-month              Yes   \n",
       "\n",
       "               PaymentMethod MonthlyCharges  TotalCharges  Churn  \n",
       "0           Electronic check          29.85         29.85     No  \n",
       "1               Mailed check          56.95       1889.50     No  \n",
       "2               Mailed check          53.85        108.15    Yes  \n",
       "3  Bank transfer (automatic)          42.30       1840.75     No  \n",
       "4           Electronic check          70.70        151.65    Yes  \n",
       "\n",
       "[5 rows x 21 columns]"
      ]
     },
     "execution_count": 2,
     "metadata": {},
     "output_type": "execute_result"
    }
   ],
   "source": [
    "# Define path to the cleaned dataset\n",
    "data_path = 'Data/Processed/ChurnData_Missing_Handled.csv'\n",
    "# Load a few rows to inspect the data\n",
    "df_raw = pd.read_csv(data_path)\n",
    "df_raw.head()"
   ]
  },
  {
   "cell_type": "code",
   "execution_count": 3,
   "id": "32a3d066",
   "metadata": {},
   "outputs": [
    {
     "data": {
      "text/plain": [
       "['pipeline_path',\n",
       " 'model_path',\n",
       " 'cv_results',\n",
       " 'validation_evaluation',\n",
       " 'test_evaluation']"
      ]
     },
     "execution_count": 3,
     "metadata": {},
     "output_type": "execute_result"
    }
   ],
   "source": [
    "# Set up configuration objects\n",
    "data_cfg = DataConfig(file_path=data_path, test_size=0.2, val_size=0.1, random_state=42, stratify=True)\n",
    "prep_cfg = PreprocessingConfig(missing_strategy='median', encoding_strategy='onehot', scaling_strategy='standard', binning_strategy='tenure')\n",
    "# Use a DecisionTreeClassifier for a quick demonstration\n",
    "model_cfg = ModelConfig(model_type='decision_tree', params={})\n",
    "# Optionally provide a hyperparameter grid for max_depth\n",
    "hyperparams = {'max_depth': [3, 5, 7, None]}\n",
    "# Create and run the training pipeline\n",
    "training_pipeline = TrainingPipeline(data_cfg, prep_cfg, model_cfg, hyperparams=hyperparams, threshold=0.5, save_dir='Artifacts/TrainPipeline')\n",
    "results = training_pipeline.run()\n",
    "results_keys = list(results.keys())\n",
    "results_keys"
   ]
  },
  {
   "cell_type": "code",
   "execution_count": 4,
   "id": "0f0f825b",
   "metadata": {},
   "outputs": [
    {
     "name": "stdout",
     "output_type": "stream",
     "text": [
      "Validation metrics: EvaluationResults(accuracy=0.7749796913078798, precision=0.5757575757575758, recall=0.581039755351682, f1=0.578386605783866, roc_auc=0.8123359313685692, pr_auc=0.5881525519432036, confusion_matrix=array([[764, 140],\n",
      "       [137, 190]]))\n",
      "Test metrics: EvaluationResults(accuracy=0.8011363636363636, precision=0.6111111111111112, recall=0.7021276595744681, f1=0.6534653465346535, roc_auc=0.8688767936665018, pr_auc=0.6874513921859718, confusion_matrix=array([[108,  21],\n",
      "       [ 14,  33]]))\n"
     ]
    },
    {
     "data": {
      "application/vnd.microsoft.datawrangler.viewer.v0+json": {
       "columns": [
        {
         "name": "index",
         "rawType": "int64",
         "type": "integer"
        },
        {
         "name": "param_max_depth",
         "rawType": "object",
         "type": "unknown"
        },
        {
         "name": "params",
         "rawType": "object",
         "type": "unknown"
        },
        {
         "name": "mean_test_f1",
         "rawType": "float64",
         "type": "float"
        }
       ],
       "ref": "bb06da05-4927-4e64-b0d1-e829d2be4b88",
       "rows": [
        [
         "0",
         "3",
         "{'max_depth': 3}",
         "0.5061930865750403"
        ],
        [
         "1",
         "5",
         "{'max_depth': 5}",
         "0.5515434279656397"
        ],
        [
         "2",
         "7",
         "{'max_depth': 7}",
         "0.5299920697356314"
        ],
        [
         "3",
         null,
         "{'max_depth': None}",
         "0.49464876323172435"
        ]
       ],
       "shape": {
        "columns": 3,
        "rows": 4
       }
      },
      "text/html": [
       "<div>\n",
       "<style scoped>\n",
       "    .dataframe tbody tr th:only-of-type {\n",
       "        vertical-align: middle;\n",
       "    }\n",
       "\n",
       "    .dataframe tbody tr th {\n",
       "        vertical-align: top;\n",
       "    }\n",
       "\n",
       "    .dataframe thead th {\n",
       "        text-align: right;\n",
       "    }\n",
       "</style>\n",
       "<table border=\"1\" class=\"dataframe\">\n",
       "  <thead>\n",
       "    <tr style=\"text-align: right;\">\n",
       "      <th></th>\n",
       "      <th>param_max_depth</th>\n",
       "      <th>params</th>\n",
       "      <th>mean_test_f1</th>\n",
       "    </tr>\n",
       "  </thead>\n",
       "  <tbody>\n",
       "    <tr>\n",
       "      <th>0</th>\n",
       "      <td>3</td>\n",
       "      <td>{'max_depth': 3}</td>\n",
       "      <td>0.506193</td>\n",
       "    </tr>\n",
       "    <tr>\n",
       "      <th>1</th>\n",
       "      <td>5</td>\n",
       "      <td>{'max_depth': 5}</td>\n",
       "      <td>0.551543</td>\n",
       "    </tr>\n",
       "    <tr>\n",
       "      <th>2</th>\n",
       "      <td>7</td>\n",
       "      <td>{'max_depth': 7}</td>\n",
       "      <td>0.529992</td>\n",
       "    </tr>\n",
       "    <tr>\n",
       "      <th>3</th>\n",
       "      <td>None</td>\n",
       "      <td>{'max_depth': None}</td>\n",
       "      <td>0.494649</td>\n",
       "    </tr>\n",
       "  </tbody>\n",
       "</table>\n",
       "</div>"
      ],
      "text/plain": [
       "  param_max_depth               params  mean_test_f1\n",
       "0               3     {'max_depth': 3}      0.506193\n",
       "1               5     {'max_depth': 5}      0.551543\n",
       "2               7     {'max_depth': 7}      0.529992\n",
       "3            None  {'max_depth': None}      0.494649"
      ]
     },
     "execution_count": 4,
     "metadata": {},
     "output_type": "execute_result"
    }
   ],
   "source": [
    "# Display evaluation results\n",
    "print('Validation metrics:', results['validation_evaluation'])\n",
    "print('Test metrics:', results['test_evaluation'])\n",
    "\n",
    "# The cross‑validation results for hyperparameter tuning can be inspected as a DataFrame\n",
    "import pandas as pd\n",
    "cv_df = pd.DataFrame(results['cv_results'])\n",
    "# Show only columns relevant for the primary metric (F1)\n",
    "cols_of_interest = [col for col in cv_df.columns if 'mean_test_f1' in col or col.startswith('param')]\n",
    "cv_df[cols_of_interest]\n"
   ]
  },
  {
   "cell_type": "code",
   "execution_count": 5,
   "id": "4156c02b",
   "metadata": {},
   "outputs": [
    {
     "data": {
      "text/plain": [
       "PredictionResult(probability=0.5098814229249012, prediction=1)"
      ]
     },
     "execution_count": 5,
     "metadata": {},
     "output_type": "execute_result"
    }
   ],
   "source": [
    "# Load saved pipeline and model for inference\n",
    "pipeline_path = results['pipeline_path']\n",
    "model_path = results['model_path']\n",
    "# Initialize streaming inference pipeline\n",
    "sip = StreamingInferencePipeline(pipeline_path, model_path, threshold=0.5)\n",
    "\n",
    "# Perform batch prediction on the first 5 customers\n",
    "samples = df_raw.head(5).drop(columns=['Churn'])\n",
    "predictions_batch = sip.predict_batch(samples)\n",
    "predictions_batch\n",
    "\n",
    "# Perform single‑sample prediction on a dictionary\n",
    "single_sample = samples.iloc[0].to_dict()\n",
    "prediction_single = sip.predict(single_sample)\n",
    "prediction_single\n"
   ]
  },
  {
   "cell_type": "markdown",
   "id": "3015228c",
   "metadata": {},
   "source": [
    "## Summary\n",
    "\n",
    "This notebook illustrates how the **production_pipeline** package implements a production‑ready workflow for Telco customer churn prediction:\n",
    "\n",
    "- **Modular Preprocessing:** The `DataPipeline` removes identifier columns, imputes missing values, bins the tenure feature, encodes categoricals, and scales numerical variables.\n",
    "- **Configurable Training:** The `TrainingPipeline` orchestrates data ingestion, preprocessing, splitting, model construction, cross‑validated training, optional hyperparameter tuning, evaluation, and persistence.\n",
    "- **Robust Evaluation:** We compute metrics appropriate for imbalanced classification (precision, recall, F1, ROC AUC, PR AUC) on a hold‑out test set.\n",
    "- **Model Persistence & Inference:** The fitted pipeline and model are saved to disk. The `StreamingInferencePipeline` loads these artifacts and provides both batch and single‑sample predictions with configurable thresholds, returning probabilities and hard class labels.\n",
    "\n",
    "This modular architecture allows the churn prediction system to be extended or replaced with different preprocessing strategies, models or evaluation criteria without modifying the pipeline orchestration code.\n"
   ]
  }
 ],
 "metadata": {
  "kernelspec": {
   "display_name": "Churn-Prediction",
   "language": "python",
   "name": "python3"
  },
  "language_info": {
   "codemirror_mode": {
    "name": "ipython",
    "version": 3
   },
   "file_extension": ".py",
   "mimetype": "text/x-python",
   "name": "python",
   "nbconvert_exporter": "python",
   "pygments_lexer": "ipython3",
   "version": "3.11.13"
  }
 },
 "nbformat": 4,
 "nbformat_minor": 5
}
